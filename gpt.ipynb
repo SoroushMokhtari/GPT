{
 "cells": [
  {
   "cell_type": "markdown",
   "metadata": {},
   "source": [
    "# A Simple Implementation of GPT Model"
   ]
  },
  {
   "cell_type": "code",
   "execution_count": 220,
   "metadata": {},
   "outputs": [],
   "source": [
    "from dataclasses import dataclass\n",
    "from tqdm import tqdm\n",
    "import matplotlib.pyplot as plt\n",
    "\n",
    "import torch\n",
    "import torch.nn as nn\n",
    "from torch.nn import functional as F"
   ]
  },
  {
   "cell_type": "code",
   "execution_count": 189,
   "metadata": {},
   "outputs": [],
   "source": [
    "@dataclass\n",
    "class GPTConfig:\n",
    "    block_size: int = 256\n",
    "    vocab_size: int = 65 \n",
    "    head_size: int = 64\n",
    "    batch_size: int = 8\n",
    "    n_layer: int = 4\n",
    "    n_head: int = 4\n",
    "    n_embd: int = 64\n",
    "    dropout: float = 0.2\n",
    "    bias: bool = False"
   ]
  },
  {
   "cell_type": "code",
   "execution_count": 190,
   "metadata": {},
   "outputs": [],
   "source": [
    "class CausalSelfAttention(nn.Module):\n",
    "\n",
    "    def __init__(self, config):\n",
    "        super().__init__()\n",
    "\n",
    "        # key, query, value projections for all heads, but in a batch\n",
    "        self.k = nn.Linear(config.n_embd, config.head_size, bias=config.bias)\n",
    "        self.q = nn.Linear(config.n_embd, config.head_size, bias=config.bias)\n",
    "        self.v = nn.Linear(config.n_embd, config.head_size, bias=config.bias)\n",
    "\n",
    "        # Causal attention mask\n",
    "        self.register_buffer(\"tril\", torch.tril(torch.ones(config.block_size, config.block_size)))\n",
    "        \n",
    "        \n",
    "\n",
    "    def forward(self, x):\n",
    "        B, T, C = x.size()\n",
    "        \n",
    "        k = self.k(x)\n",
    "        v = self.v(x)\n",
    "        q = self.q(x)\n",
    "\n",
    "        att = q @ k.transpose(-2,-1) * k.shape[-1]**-0.5  # (B, T, hs) @ (B, hs, T) -> (B, T, T)\n",
    "        att = att.masked_fill(self.tril[:T, :T] == 0, float('-inf')) # (B, T, T)\n",
    "        att = F.softmax(att, dim=-1) # (B, T, T)\n",
    "        out = att @ v\n",
    "        \n",
    "        return out"
   ]
  },
  {
   "cell_type": "code",
   "execution_count": 191,
   "metadata": {},
   "outputs": [],
   "source": [
    "class MultiHeadAttention(nn.Module):\n",
    "\n",
    "    def __init__(self, config):\n",
    "        super().__init__()\n",
    "        self.multi_head_attention = nn.ModuleList([CausalSelfAttention(config) for _ in range(config.n_head)])\n",
    "        self.linear_projection = nn.Linear(config.head_size * config.n_head, config.n_embd)\n",
    "        self.resid_dropout = nn.Dropout(config.dropout)\n",
    "\n",
    "\n",
    "    def forward(self, x):\n",
    "        attn_out = torch.cat([h(x) for h in self.multi_head_attention], dim=-1)\n",
    "        attn_out = self.linear_projection(attn_out)\n",
    "        attn_out = self.resid_dropout(attn_out)\n",
    "\n",
    "        return attn_out"
   ]
  },
  {
   "cell_type": "code",
   "execution_count": 192,
   "metadata": {},
   "outputs": [],
   "source": [
    "class FeedFoward(nn.Module):\n",
    "    \"\"\" a simple linear layer followed by a non-linearity \"\"\"\n",
    "\n",
    "    def __init__(self, config):\n",
    "        super().__init__()\n",
    "        self.net = nn.Sequential(\n",
    "            nn.Linear(config.n_embd, 4 * config.n_embd),\n",
    "            nn.ReLU(),\n",
    "            nn.Linear(4 * config.n_embd, config.n_embd),\n",
    "            nn.Dropout(config.dropout)\n",
    "        )\n",
    "\n",
    "\n",
    "    def forward(self, x):\n",
    "        return self.net(x)\n",
    "        "
   ]
  },
  {
   "cell_type": "code",
   "execution_count": 193,
   "metadata": {},
   "outputs": [],
   "source": [
    "class AttentionBlock(nn.Module):\n",
    "    \"\"\" Transformer block: communication followed by computation \"\"\"\n",
    "\n",
    "    def __init__(self, config):\n",
    "        super().__init__()\n",
    "        self.attention_block = MultiHeadAttention(config)\n",
    "        self.feed_forward = FeedFoward(config)\n",
    "        self.ln1 = nn.LayerNorm(config.n_embd)\n",
    "        self.ln2 = nn.LayerNorm(config.n_embd)\n",
    "\n",
    "\n",
    "    def forward(self, x):\n",
    "        x = x + self.attention_block(self.ln1(x))\n",
    "        x = x + self.feed_forward(self.ln2(x))\n",
    "\n",
    "        return x"
   ]
  },
  {
   "cell_type": "code",
   "execution_count": 194,
   "metadata": {},
   "outputs": [],
   "source": [
    "class GPT(nn.Module):\n",
    "\n",
    "    def __init__(self, config):\n",
    "        super().__init__()\n",
    "        # Tables of encodings\n",
    "        self.token_embedding_table = nn.Embedding(config.vocab_size, config.n_embd)\n",
    "        self.position_embedding_table = nn.Embedding(config.block_size, config.n_embd)\n",
    "\n",
    "        self.attentions_blocks = nn.Sequential(*[AttentionBlock(config) for _ in range(config.n_layer)])\n",
    "        self.ln = nn.LayerNorm(config.n_embd) # final layer norm\n",
    "        self.lm_head = nn.Linear(config.n_embd, config.vocab_size)\n",
    "\n",
    "        # better init, not covered in the original GPT video, but important, will cover in followup video\n",
    "        self.apply(self._init_weights)\n",
    "\n",
    "\n",
    "    def _init_weights(self, module):\n",
    "        if isinstance(module, nn.Linear):\n",
    "            torch.nn.init.normal_(module.weight, mean=0.0, std=0.02)\n",
    "            if module.bias is not None:\n",
    "                torch.nn.init.zeros_(module.bias)\n",
    "        elif isinstance(module, nn.Embedding):\n",
    "            torch.nn.init.normal_(module.weight, mean=0.0, std=0.02)\n",
    "\n",
    "\n",
    "    def forward(self, x, targets=None):\n",
    "        B, T = x.shape\n",
    "\n",
    "        # x and targets are both (B,T) tensor of integers\n",
    "        tok_emb = self.token_embedding_table(x) # (B,T,C)\n",
    "        pos_emb = self.position_embedding_table(torch.arange(T)) # (T,C)\n",
    "        x = tok_emb + pos_emb # (B,T,C)\n",
    "\n",
    "\n",
    "        x = self.attentions_blocks(x) # (B,T,C)\n",
    "        x = self.ln(x) # (B,T,C)\n",
    "        logits = self.lm_head(x) # (B,T,vocab_size)\n",
    "\n",
    "        if targets is None:\n",
    "            loss = None\n",
    "        else:\n",
    "            B, T, C = logits.shape\n",
    "            logits = logits.view(B*T, C)\n",
    "            targets = targets.view(B*T)\n",
    "            loss = F.cross_entropy(logits, targets)\n",
    "\n",
    "        return logits, loss"
   ]
  },
  {
   "cell_type": "markdown",
   "metadata": {},
   "source": [
    "# Example Training"
   ]
  },
  {
   "cell_type": "code",
   "execution_count": 206,
   "metadata": {},
   "outputs": [],
   "source": [
    "@dataclass\n",
    "class TrainConfig:\n",
    "    learning_rate: float = 3e-4\n",
    "    eval_iters: int = 250\n",
    "    max_iters: int = 500"
   ]
  },
  {
   "cell_type": "code",
   "execution_count": 207,
   "metadata": {},
   "outputs": [
    {
     "name": "stdout",
     "output_type": "stream",
     "text": [
      "Vocab size: 65\n"
     ]
    }
   ],
   "source": [
    "with open('./data/input.txt', 'r', encoding='utf-8') as f:\n",
    "    text = f.read()\n",
    "\n",
    "cars = sorted(list(set(text)))\n",
    "vocab_size = len(cars)\n",
    "print(f\"Vocab size: {vocab_size}\")\n",
    "\n",
    "# create a mapping from characters to integers\n",
    "stoi = {ch:i for i,ch in enumerate(cars)}\n",
    "itos = {i:ch for i,ch in enumerate(cars)}\n",
    "\n",
    "# encode and decoder for text to integer encodings\n",
    "encode_text = lambda s: [stoi[c] for c in s]\n",
    "decode_text = lambda l: ''.join([itos[i] for i in l])\n",
    "\n",
    "# encode the tex\n",
    "data = torch.tensor(encode_text(text), dtype=torch.long)\n",
    "\n",
    "# split the data into train and test sets\n",
    "n = int(0.9 * len(data))\n",
    "train_data = data[:n]\n",
    "val_data = data[n:]"
   ]
  },
  {
   "cell_type": "code",
   "execution_count": 227,
   "metadata": {},
   "outputs": [],
   "source": [
    "# TODO: fix the device assignment\n",
    "\n",
    "class GPTTrain():\n",
    "    def __init__(self, device, train_data, val_data):\n",
    "        self.device = device\n",
    "        self.train_data = train_data\n",
    "        self.val_data = val_data\n",
    "        self.model_config = GPTConfig()\n",
    "        self.train_config = TrainConfig()\n",
    "        self.model = GPT(self.model_config)\n",
    "        self.model.to(device)\n",
    "        self.optimizer = torch.optim.AdamW(self.model.parameters(), lr=self.train_config.learning_rate)\n",
    "\n",
    "\n",
    "    def _num_parameters(self):\n",
    "        # print the number of parameters in the model\n",
    "        print(sum(p.numel() for p in self.model.parameters())/1e6, 'MM parameters')\n",
    "\n",
    "\n",
    "    def _get_batch(self, split):\n",
    "        data = self.train_data if split == 'train' else self.val_data\n",
    "        ix = torch.randint(len(data) - self.model_config.block_size, (self.model_config.batch_size,))\n",
    "        x = torch.stack([data[i:i + self.model_config.block_size] for i in ix])\n",
    "        y = torch.stack([data[i + 1:i + self.model_config.block_size + 1] for i in ix])\n",
    "        return x, y\n",
    "\n",
    "\n",
    "    @torch.no_grad()\n",
    "    def _estimate_loss(self):\n",
    "        out = {}\n",
    "        self.model.eval()\n",
    "        for split in ['train', 'val']:\n",
    "            losses = torch.zeros(self.train_config.eval_iters)\n",
    "            for k in range(self.train_config.eval_iters):\n",
    "                X, Y = self._get_batch(split)\n",
    "                logits, loss = self.model(X, Y)\n",
    "                losses[k] = loss.item()\n",
    "            out[split] = losses.mean()\n",
    "        self.model.train()\n",
    "        return out\n",
    "\n",
    "\n",
    "    def generate(self, x, max_new_tokens=500):\n",
    "        # idx is (B, T) array of indices in the current context\n",
    "        for _ in range(max_new_tokens):\n",
    "            # crop idx to the last block_size tokens\n",
    "            idx_cond = x[:, -self.model_config.block_size:]\n",
    "            # get the predictions\n",
    "            logits, loss = self.model(idx_cond)\n",
    "            # focus only on the last time step\n",
    "            logits = logits[:, -1, :] # becomes (B, C)\n",
    "            # apply softmax to get probabilities\n",
    "            probs = F.softmax(logits, dim=-1) # (B, C)\n",
    "            # sample from the distribution\n",
    "            idx_next = torch.multinomial(probs, num_samples=1) # (B, 1)\n",
    "            # append sampled index to the running sequence\n",
    "            idx = torch.cat((idx, idx_next), dim=1) # (B, T+1)\n",
    "        return idx\n",
    "\n",
    "\n",
    "    def train(self):\n",
    "        progress_bar = tqdm(range(self.train_config.max_iters), desc=\"Training\")\n",
    "        iter_losses = []\n",
    "        for iter in progress_bar:\n",
    "\n",
    "            # every once in a while evaluate the loss on train and val sets\n",
    "            if (iter % self.train_config.eval_iters == 0 or\n",
    "                iter == self.train_config.max_iters - 1):\n",
    "                losses = self._estimate_loss()\n",
    "                progress_bar.write(f\"step {iter}: train loss {losses['train']:.4f}, val loss {losses['val']:.4f}\")\n",
    "\n",
    "            # sample a batch of data\n",
    "            x, y = self._get_batch('train')\n",
    "\n",
    "            # evaluate the loss\n",
    "            logits, loss = self.model(x, y)\n",
    "            loss_item = loss.cpu().detach().item()\n",
    "            progress_bar.set_postfix(loss=f\"{loss_item:.4f}\")\n",
    "            iter_losses.append(loss_item)\n",
    "            self.optimizer.zero_grad(set_to_none=True)\n",
    "            loss.backward()\n",
    "            self.optimizer.step()\n",
    "\n",
    "        return iter_losses"
   ]
  },
  {
   "cell_type": "code",
   "execution_count": 219,
   "metadata": {},
   "outputs": [
    {
     "name": "stdout",
     "output_type": "stream",
     "text": [
      "0.420673 MM parameters\n"
     ]
    },
    {
     "name": "stderr",
     "output_type": "stream",
     "text": [
      "Training:   0%|          | 0/500 [01:02<?, ?it/s, loss=4.1852]"
     ]
    },
    {
     "name": "stdout",
     "output_type": "stream",
     "text": [
      "step 0: train loss 4.1821, val loss 4.1811\n"
     ]
    },
    {
     "name": "stderr",
     "output_type": "stream",
     "text": [
      "Training:  50%|█████     | 250/500 [03:35<01:31,  2.74it/s, loss=2.7109]"
     ]
    },
    {
     "name": "stdout",
     "output_type": "stream",
     "text": [
      "step 250: train loss 2.6411, val loss 2.6432\n"
     ]
    },
    {
     "name": "stderr",
     "output_type": "stream",
     "text": [
      "Training: 100%|█████████▉| 499/500 [06:08<00:00,  2.73it/s, loss=2.5632]  "
     ]
    },
    {
     "name": "stdout",
     "output_type": "stream",
     "text": [
      "step 499: train loss 2.5118, val loss 2.5230\n"
     ]
    },
    {
     "name": "stderr",
     "output_type": "stream",
     "text": [
      "Training: 100%|██████████| 500/500 [06:08<00:00,  1.36it/s, loss=2.5632]\n"
     ]
    }
   ],
   "source": [
    "device = 'cuda' if torch.cuda.is_available() else 'cpu'\n",
    "\n",
    "gpt_train = GPTTrain(device, train_data, val_data)\n",
    "gpt_train._num_parameters()\n",
    "\n",
    "losses = gpt_train.train()\n",
    "# gpt_train.generate(torch.zeros((1, 1), dtype=torch.long).to(device), max_new_tokens=500)\n"
   ]
  },
  {
   "cell_type": "code",
   "execution_count": 223,
   "metadata": {},
   "outputs": [
    {
     "data": {
      "image/png": "[encoded data removed]",
      "text/plain": [
       "<Figure size 432x288 with 1 Axes>"
      ]
     },
     "metadata": {
      "needs_background": "light"
     },
     "output_type": "display_data"
    }
   ],
   "source": [
    "plt.plot(losses)\n",
    "plt.title('Training iterations loss')\n",
    "plt.xlabel('Iteration')\n",
    "plt.ylabel('Loss')\n",
    "plt.grid(color = 'gray', ls = '--', lw = 0.5)"
   ]
  },
  {
   "cell_type": "code",
   "execution_count": null,
   "metadata": {},
   "outputs": [],
   "source": []
  }
 ],
 "metadata": {
  "kernelspec": {
   "display_name": "MainCondaENV",
   "language": "python",
   "name": "maincondaenv"
  },
  "language_info": {
   "codemirror_mode": {
    "name": "ipython",
    "version": 3
   },
   "file_extension": ".py",
   "mimetype": "text/x-python",
   "name": "python",
   "nbconvert_exporter": "python",
   "pygments_lexer": "ipython3",
   "version": "3.8.20"
  }
 },
 "nbformat": 4,
 "nbformat_minor": 2
}
